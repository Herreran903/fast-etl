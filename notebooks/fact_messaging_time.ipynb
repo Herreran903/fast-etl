{
 "cells": [
  {
   "cell_type": "markdown",
   "metadata": {},
   "source": [
    "# fact_messaging_time"
   ]
  },
  {
   "cell_type": "markdown",
   "metadata": {},
   "source": [
    "### Importación de librerías"
   ]
  },
  {
   "cell_type": "code",
   "execution_count": null,
   "metadata": {},
   "outputs": [],
   "source": [
    "import yaml\n",
    "import pandas as pd\n",
    "from sqlalchemy import create_engine"
   ]
  },
  {
   "cell_type": "markdown",
   "metadata": {},
   "source": [
    "### Conexión a base y bodega de datos"
   ]
  },
  {
   "cell_type": "code",
   "execution_count": null,
   "metadata": {},
   "outputs": [],
   "source": [
    "with open('../config.yaml') as f:\n",
    "    config = yaml.safe_load(f)\n",
    "    configSource = config['source']\n",
    "    configDestination = config['destination']\n",
    "\n",
    "urlSource = f\"{configSource['driver']}://{configSource['user']}:{configSource['password']}@{configSource['host']}:{configSource['port']}/{configSource['db']}\"\n",
    "urlDestination = f\"{configDestination['driver']}://{configDestination['user']}:{configDestination['password']}@{configDestination['host']}:{configDestination['port']}/{configDestination['db']}\"\n",
    "\n",
    "engineSource = create_engine(urlSource)\n",
    "engineDestination = create_engine(urlDestination)"
   ]
  },
  {
   "cell_type": "markdown",
   "metadata": {},
   "source": [
    "### Extracción y transformación de datos"
   ]
  },
  {
   "cell_type": "code",
   "execution_count": null,
   "metadata": {},
   "outputs": [],
   "source": [
    "# Con el ultimo mensajero, granularidad por minuto y hora redondeada. Es decir, todas las horas son en punto. Por ejemplo, si en la base de datos un mensajero acepto un servicio a las 8:47 en la bodega se guarda con la hora 8:00\n",
    "\n",
    "mensajeria_servicio = pd.read_sql_table('mensajeria_servicio', engineSource)\n",
    "mensajeria_estadosservicio = pd.read_sql_table('mensajeria_estadosservicio', engineSource)\n",
    "clientes_mensajeroaquitoy = pd.read_sql_table('clientes_mensajeroaquitoy', engineSource)\n",
    "\n",
    "mensajeria_servicio.drop(columns=[\"descripcion\", \"nombre_solicitante\", \"fecha_solicitud\", \"hora_solicitud\", \"fecha_deseada\", \"hora_deseada\", \"nombre_recibe\", \"telefono_recibe\", \"descripcion_pago\", \"ida_y_regreso\", \"activo\", \"novedades\", \"cliente_id\", \"destino_id\", \"origen_id\", \"tipo_pago_id\", \"tipo_servicio_id\", \"tipo_vehiculo_id\", \"usuario_id\", \"prioridad\", \"ciudad_destino_id\", \"ciudad_origen_id\", \"hora_visto_por_mensajero\", \"visto_por_mensajero\", \"descripcion_multiples_origenes\", \"multiples_origenes\", \"asignar_mensajero\", \"es_prueba\", \"descripcion_cancelado\"], inplace=True)\n",
    "mensajeria_estadosservicio.drop(columns=[\"fecha\", \"foto\", \"observaciones\", \"es_prueba\", \"foto_binary\"], inplace=True)\n",
    "clientes_mensajeroaquitoy.drop(columns=[\"activo\", \"fecha_entrada\", \"fecha_salida\", \"salario\", \"telefono\", \"ciudad_operacion_id\", \"token_Firebase\", \"url_foto\"], inplace=True)\n",
    "\n",
    "mensajeria_servicio['mensajero2_id'].fillna(mensajeria_servicio['mensajero_id'], inplace=True)\n",
    "mensajeria_servicio['mensajero3_id'].fillna(mensajeria_servicio['mensajero2_id'], inplace=True)\n",
    "\n",
    "mensajeria_estadosservicio = mensajeria_estadosservicio[mensajeria_estadosservicio['estado_id'] == 2]\n",
    "\n",
    "fact_messaging_time_nm1 = pd.merge(mensajeria_servicio, mensajeria_estadosservicio, left_on='id', right_on='servicio_id', how='inner')\n",
    "fact_messaging_time = pd.merge(fact_messaging_time_nm1, clientes_mensajeroaquitoy, left_on='mensajero3_id', right_on='id', how='inner')\n",
    "\n",
    "registro_de_fact_messaging_time_con_tiempos_y_mensajeros = []\n",
    "conteo_de_mensajeros_por_servicio = {}\n",
    "for index, row in fact_messaging_time.iterrows():\n",
    "    servicio_id = fact_messaging_time.iloc[index, 7]\n",
    "    if servicio_id not in conteo_de_mensajeros_por_servicio:\n",
    "        conteo_de_mensajeros_por_servicio[servicio_id] = 1\n",
    "    elif conteo_de_mensajeros_por_servicio[servicio_id] == 1:\n",
    "        conteo_de_mensajeros_por_servicio[servicio_id] += 1\n",
    "    elif conteo_de_mensajeros_por_servicio[servicio_id] == 2:\n",
    "        nueva_fila = {'time': fact_messaging_time.iloc[index, 5].replace(minute=0, second=0), 'key_messenger': int(fact_messaging_time.iloc[index, 9])}\n",
    "        registro_de_fact_messaging_time_con_tiempos_y_mensajeros.append(nueva_fila)\n",
    "        conteo_de_mensajeros_por_servicio[servicio_id] += 1\n",
    "\n",
    "fact_messaging_time_con_tiempos_y_mensajeros = pd.DataFrame(registro_de_fact_messaging_time_con_tiempos_y_mensajeros)\n",
    "fact_messaging_time_con_tiempos_y_mensajeros\n",
    "fact_messaging_time_con_tiempos_y_mensajeros_agrupados = fact_messaging_time_con_tiempos_y_mensajeros.groupby(['key_messenger', 'time']).size().reset_index(name='total_time')\n",
    "fact_messaging_time_con_tiempos_y_mensajeros_agrupados[\"key_fact_messaging_time\"] = range(1, len(fact_messaging_time_con_tiempos_y_mensajeros_agrupados) + 1)\n",
    "\n",
    "dim_time = pd.read_sql_table('dim_time', engineDestination)\n",
    "\n",
    "fact_messaging_time_con_tiempos_y_mensajeros_agrupadoss_con_time_id = fact_messaging_time_con_tiempos_y_mensajeros_agrupados.merge(dim_time[['time', 'key_dim_time']], on='time', how='left')\n",
    "fact_messaging_time_con_tiempos_y_mensajeros_agrupadoss_con_time_id.drop(columns=['time'], inplace=True)\n",
    "fact_messaging_time_con_tiempos_y_mensajeros_agrupadoss_con_time_id.rename(columns={'key_dim_time': 'key_time'}, inplace=True)\n",
    "\n",
    "fact_messaging_time_con_tiempos_y_mensajeros_agrupadoss_con_time_id"
   ]
  },
  {
   "cell_type": "markdown",
   "metadata": {},
   "source": [
    "### Carga de datos"
   ]
  },
  {
   "cell_type": "code",
   "execution_count": null,
   "metadata": {},
   "outputs": [],
   "source": [
    "fact_messaging_time_con_tiempos_y_mensajeros_agrupadoss_con_time_id.to_sql(\"fact_messaging_time\", engineDestination, index=False, if_exists=\"replace\")"
   ]
  }
 ],
 "metadata": {
  "kernelspec": {
   "display_name": "Python 3",
   "language": "python",
   "name": "python3"
  },
  "language_info": {
   "codemirror_mode": {
    "name": "ipython",
    "version": 3
   },
   "file_extension": ".py",
   "mimetype": "text/x-python",
   "name": "python",
   "nbconvert_exporter": "python",
   "pygments_lexer": "ipython3",
   "version": "3.11.4"
  }
 },
 "nbformat": 4,
 "nbformat_minor": 2
}
