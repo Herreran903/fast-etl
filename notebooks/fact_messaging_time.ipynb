{
 "cells": [
  {
   "cell_type": "markdown",
   "metadata": {},
   "source": [
    "# fact_messaging_time"
   ]
  },
  {
   "cell_type": "markdown",
   "metadata": {},
   "source": [
    "### Importación de librerías"
   ]
  },
  {
   "cell_type": "code",
   "execution_count": null,
   "metadata": {},
   "outputs": [],
   "source": [
    "import yaml\n",
    "import pandas as pd\n",
    "from sqlalchemy import create_engine"
   ]
  },
  {
   "cell_type": "markdown",
   "metadata": {},
   "source": [
    "### Conexión a base y bodega de datos"
   ]
  },
  {
   "cell_type": "code",
   "execution_count": null,
   "metadata": {},
   "outputs": [],
   "source": [
    "with open('../config.yaml') as f:\n",
    "    config = yaml.safe_load(f)\n",
    "    configSource = config['source']\n",
    "    configDestination = config['destination']\n",
    "\n",
    "urlSource = f\"{configSource['driver']}://{configSource['user']}:{configSource['password']}@{configSource['host']}:{configSource['port']}/{configSource['db']}\"\n",
    "urlDestination = f\"{configDestination['driver']}://{configDestination['user']}:{configDestination['password']}@{configDestination['host']}:{configDestination['port']}/{configDestination['db']}\"\n",
    "\n",
    "engineSource = create_engine(urlSource)\n",
    "engineDestination = create_engine(urlDestination)"
   ]
  },
  {
   "cell_type": "markdown",
   "metadata": {},
   "source": [
    "### Extracción y transformación de datos"
   ]
  },
  {
   "cell_type": "code",
   "execution_count": null,
   "metadata": {},
   "outputs": [],
   "source": [
    "mensajeria_servicio = pd.read_sql_table('mensajeria_servicio', engineSource)\n",
    "mensajeria_estadosservicio = pd.read_sql_table('mensajeria_estadosservicio', engineSource)\n",
    "clientes_mensajeroaquitoy = pd.read_sql_table('clientes_mensajeroaquitoy', engineSource)\n",
    "\n",
    "mensajeria_servicio.drop(columns=[\"descripcion\", \"nombre_solicitante\", \"fecha_solicitud\", \"hora_solicitud\", \"fecha_deseada\", \"hora_deseada\", \"nombre_recibe\", \"telefono_recibe\", \"descripcion_pago\", \"ida_y_regreso\", \"activo\", \"novedades\", \"cliente_id\", \"destino_id\", \"origen_id\", \"tipo_pago_id\", \"tipo_servicio_id\", \"tipo_vehiculo_id\", \"usuario_id\", \"prioridad\", \"ciudad_destino_id\", \"ciudad_origen_id\", \"hora_visto_por_mensajero\", \"visto_por_mensajero\", \"descripcion_multiples_origenes\", \"multiples_origenes\", \"asignar_mensajero\", \"es_prueba\", \"descripcion_cancelado\"], inplace=True)\n",
    "mensajeria_estadosservicio.drop(columns=[\"fecha\", \"foto\", \"observaciones\", \"es_prueba\", \"foto_binary\"], inplace=True)\n",
    "clientes_mensajeroaquitoy.drop(columns=[\"activo\", \"fecha_entrada\", \"fecha_salida\", \"salario\", \"telefono\", \"ciudad_operacion_id\", \"token_Firebase\", \"url_foto\"], inplace=True)\n",
    "\n",
    "mensajeria_servicio['mensajero2_id'].fillna(mensajeria_servicio['mensajero_id'], inplace=True)\n",
    "mensajeria_servicio['mensajero3_id'].fillna(mensajeria_servicio['mensajero2_id'], inplace=True)\n",
    "\n",
    "mensajeria_estadosservicio = mensajeria_estadosservicio[mensajeria_estadosservicio['estado_id'] == 2]\n",
    "\n",
    "fact_messaging_time_nm1 = pd.merge(mensajeria_servicio, mensajeria_estadosservicio, left_on='id', right_on='servicio_id', how='inner')\n",
    "fact_messaging_time = pd.merge(fact_messaging_time_nm1, clientes_mensajeroaquitoy, left_on='mensajero3_id', right_on='id', how='inner')\n",
    "\n",
    "fact_messaging_time = fact_messaging_time.sort_values(by=['id_x', 'hora'], ascending=[True, True])\n",
    "fact_messaging_time = fact_messaging_time.drop_duplicates(subset='id_x', keep='first')\n",
    "fact_messaging_time = fact_messaging_time.reset_index(drop=True)\n",
    "\n",
    "for index, row in fact_messaging_time.iterrows():\n",
    "    fact_messaging_time.iloc[index, 5] = fact_messaging_time.iloc[index, 5].replace(minute=0, second=0)\n",
    "\n",
    "fact_messaging_time.drop(columns=[\"id_x\", \"mensajero_id\", \"mensajero2_id\", \"mensajero3_id\", \"id_y\", \"estado_id\", \"servicio_id\", \"id\"], inplace=True)\n",
    "\n",
    "fact_messaging_time = (fact_messaging_time.groupby(['user_id', 'hora']).size().reset_index(name='total_time'))\n",
    "\n",
    "dim_time = pd.read_sql_table('dim_time', engineDestination)\n",
    "\n",
    "fact_messaging_time = pd.merge(fact_messaging_time, dim_time[['time', 'key_dim_time']], left_on='hora', right_on='time', how='inner')\n",
    "\n",
    "fact_messaging_time.drop(columns=[\"hora\", \"time\"], inplace=True)\n",
    "\n",
    "fact_messaging_time['user_id'] = fact_messaging_time['user_id'].astype('int64')\n",
    "\n",
    "fact_messaging_time['key_fact_messaging_time'] = range(1, len(fact_messaging_time) + 1)\n",
    "\n",
    "fact_messaging_time.rename(columns={\n",
    "    'user_id': 'key_messenger',\n",
    "    'key_dim_time': 'key_time'\n",
    "}, inplace=True)\n",
    "\n",
    "fact_messaging_time"
   ]
  },
  {
   "cell_type": "markdown",
   "metadata": {},
   "source": [
    "### Carga de datos"
   ]
  },
  {
   "cell_type": "code",
   "execution_count": null,
   "metadata": {},
   "outputs": [],
   "source": [
    "fact_messaging_time.to_sql(\"fact_messaging_time\", engineDestination, index=False, if_exists=\"replace\")"
   ]
  }
 ],
 "metadata": {
  "kernelspec": {
   "display_name": "Python 3",
   "language": "python",
   "name": "python3"
  },
  "language_info": {
   "codemirror_mode": {
    "name": "ipython",
    "version": 3
   },
   "file_extension": ".py",
   "mimetype": "text/x-python",
   "name": "python",
   "nbconvert_exporter": "python",
   "pygments_lexer": "ipython3",
   "version": "3.11.4"
  }
 },
 "nbformat": 4,
 "nbformat_minor": 2
}
