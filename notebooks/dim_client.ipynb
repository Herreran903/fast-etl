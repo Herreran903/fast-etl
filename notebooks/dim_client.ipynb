{
 "cells": [
  {
   "cell_type": "code",
   "execution_count": null,
   "metadata": {},
   "outputs": [],
   "source": [
    "import yaml\n",
    "import pandas as pd\n",
    "from sqlalchemy import create_engine"
   ]
  },
  {
   "cell_type": "code",
   "execution_count": null,
   "metadata": {},
   "outputs": [],
   "source": [
    "with open('../config.yaml') as f:\n",
    "    config = yaml.safe_load(f)\n",
    "    configSource = config['source']\n",
    "    configDestination = config['destination']\n",
    "\n",
    "urlSource = f\"{configSource['driver']}://{configSource['user']}:{configSource['password']}@{configSource['host']}:{configSource['port']}/{configSource['db']}\"\n",
    "urlDestination = f\"{configDestination['driver']}://{configDestination['user']}:{configDestination['password']}@{configDestination['host']}:{configDestination['port']}/{configDestination['db']}\"\n",
    "\n",
    "engineSource = create_engine(urlSource)\n",
    "engineDestination = create_engine(urlDestination)"
   ]
  },
  {
   "cell_type": "code",
   "execution_count": null,
   "metadata": {},
   "outputs": [],
   "source": [
    "client = pd.read_sql_table('cliente', engineSource)\n",
    "client.drop(columns=[\"nombre_contacto\", \"ciudad_id\", \"tipo_cliente_id\", \"activo\", \"coordinador_id\", \"sector\", \"nit_cliente\"], inplace=True)\n",
    "client.rename(columns={\n",
    "  \"cliente_id\": \"key_dim_client\", \n",
    "  \"nombre\": \"name\", \n",
    "  \"direccion\": \"address\",\n",
    "  \"telefono\": \"phone\"\n",
    "  }, inplace=True)\n",
    "client[\"saved\"] = pd.to_datetime(\"now\")\n",
    "\n",
    "client"
   ]
  },
  {
   "cell_type": "code",
   "execution_count": null,
   "metadata": {},
   "outputs": [],
   "source": [
    "client.to_sql(\"dim_client\", engineDestination, index=False, if_exists=\"replace\")"
   ]
  }
 ],
 "metadata": {
  "kernelspec": {
   "display_name": "venv",
   "language": "python",
   "name": "python3"
  },
  "language_info": {
   "codemirror_mode": {
    "name": "ipython",
    "version": 3
   },
   "file_extension": ".py",
   "mimetype": "text/x-python",
   "name": "python",
   "nbconvert_exporter": "python",
   "pygments_lexer": "ipython3",
   "version": "3.11.9"
  }
 },
 "nbformat": 4,
 "nbformat_minor": 2
}
