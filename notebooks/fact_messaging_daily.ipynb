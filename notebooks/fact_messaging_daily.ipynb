{
 "cells": [
  {
   "cell_type": "code",
   "execution_count": null,
   "metadata": {},
   "outputs": [],
   "source": [
    "import yaml\n",
    "import pandas as pd\n",
    "from sqlalchemy import create_engine"
   ]
  },
  {
   "cell_type": "code",
   "execution_count": null,
   "metadata": {},
   "outputs": [],
   "source": [
    "with open('../config.yaml') as f:\n",
    "    config = yaml.safe_load(f)\n",
    "    configSource = config['source']\n",
    "    configDestination = config['destination']\n",
    "\n",
    "urlSource = f\"{configSource['driver']}://{configSource['user']}:{configSource['password']}@{configSource['host']}:{configSource['port']}/{configSource['db']}\"\n",
    "urlDestination = f\"{configDestination['driver']}://{configDestination['user']}:{configDestination['password']}@{configDestination['host']}:{configDestination['port']}/{configDestination['db']}\"\n",
    "\n",
    "engineSource = create_engine(urlSource)\n",
    "engineDestination = create_engine(urlDestination)"
   ]
  },
  {
   "cell_type": "code",
   "execution_count": null,
   "metadata": {},
   "outputs": [],
   "source": [
    "\n",
    "mensajeria_servicio = pd.read_sql_table('mensajeria_servicio', engineSource)\n",
    "clientes_usuarioaquitoy = pd.read_sql_table('clientes_usuarioaquitoy', engineSource)\n",
    "\n",
    "mensajeria_servicio.drop(columns=[\"id\", \"descripcion\", \"nombre_solicitante\", \"hora_solicitud\", \"fecha_deseada\", \"hora_deseada\", \"nombre_recibe\", \"telefono_recibe\", \"descripcion_pago\", \"ida_y_regreso\", \"activo\", \"novedades\", \"cliente_id\", \"destino_id\", \"mensajero_id\", \"origen_id\", \"tipo_pago_id\", \"tipo_servicio_id\", \"tipo_vehiculo_id\", \"prioridad\", \"ciudad_destino_id\", \"ciudad_origen_id\", \"hora_visto_por_mensajero\", \"visto_por_mensajero\", \"descripcion_multiples_origenes\", \"mensajero2_id\", \"mensajero3_id\", \"multiples_origenes\", \"asignar_mensajero\", \"es_prueba\", \"descripcion_cancelado\"], inplace=True)\n",
    "\n",
    "clientes_usuarioaquitoy.drop(columns=[\"ciudad_id\", \"user_id\", \"telefono\", \"area_id\", \"token_Firebase\", \"lider\"], inplace=True)\n",
    "\n",
    "fact_messaging_daily = pd.merge(mensajeria_servicio, clientes_usuarioaquitoy, left_on='usuario_id', right_on='id', how='inner')\n",
    "\n",
    "fact_messaging_daily.drop(columns=[\"usuario_id\", \"id\"], inplace=True)\n",
    "\n",
    "total_day = fact_messaging_daily.groupby(['fecha_solicitud', 'cliente_id', 'sede_id']).size().reset_index(name='total_day')\n",
    "fact_messaging_daily = fact_messaging_daily.merge(total_day, on=['fecha_solicitud', 'cliente_id', 'sede_id'])\n",
    "fact_messaging_daily = fact_messaging_daily.drop_duplicates(subset=['fecha_solicitud', 'cliente_id', 'sede_id'])\n",
    "\n",
    "fact_messaging_daily.rename(columns={'fecha_solicitud': 'date'}, inplace=True)\n",
    "\n",
    "dim_date = pd.read_sql_table('dim_date', engineDestination)\n",
    "\n",
    "fact_messaging_daily = fact_messaging_daily.merge(dim_date[['date', 'key_dim_date']], on='date', how='left')\n",
    "fact_messaging_daily.drop(columns=['date'], inplace=True)\n",
    "fact_messaging_daily.rename(columns={'key_dim_date': 'key_date', 'cliente_id': 'key_client', 'sede_id': 'key_headquarter',}, inplace=True)\n",
    "\n",
    "fact_messaging_daily[\"key_fact_messaging_daily\"] = range(1, len(fact_messaging_daily) + 1)\n",
    "\n",
    "fact_messaging_daily"
   ]
  },
  {
   "cell_type": "code",
   "execution_count": null,
   "metadata": {},
   "outputs": [],
   "source": [
    "print(fact_messaging_daily.isnull().sum())"
   ]
  },
  {
   "cell_type": "code",
   "execution_count": null,
   "metadata": {},
   "outputs": [],
   "source": [
    "fact_messaging_daily.to_sql(\"fact_messaging_daily\", engineDestination, index=False, if_exists=\"replace\")"
   ]
  }
 ],
 "metadata": {
  "kernelspec": {
   "display_name": "Python 3",
   "language": "python",
   "name": "python3"
  },
  "language_info": {
   "codemirror_mode": {
    "name": "ipython",
    "version": 3
   },
   "file_extension": ".py",
   "mimetype": "text/x-python",
   "name": "python",
   "nbconvert_exporter": "python",
   "pygments_lexer": "ipython3",
   "version": "3.11.4"
  }
 },
 "nbformat": 4,
 "nbformat_minor": 2
}
