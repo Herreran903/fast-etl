{
 "cells": [
  {
   "cell_type": "code",
   "execution_count": null,
   "metadata": {},
   "outputs": [],
   "source": [
    "import yaml\n",
    "import pandas as pd\n",
    "from sqlalchemy import create_engine"
   ]
  },
  {
   "cell_type": "code",
   "execution_count": null,
   "metadata": {},
   "outputs": [],
   "source": [
    "with open('../config.yaml') as f:\n",
    "    config = yaml.safe_load(f)\n",
    "    configSource = config['source']\n",
    "    configDestination = config['destination']\n",
    "\n",
    "urlSource = f\"{configSource['driver']}://{configSource['user']}:{configSource['password']}@{configSource['host']}:{configSource['port']}/{configSource['db']}\"\n",
    "urlDestination = f\"{configDestination['driver']}://{configDestination['user']}:{configDestination['password']}@{configDestination['host']}:{configDestination['port']}/{configDestination['db']}\"\n",
    "\n",
    "engineSource = create_engine(urlSource)\n",
    "engineDestination = create_engine(urlDestination)"
   ]
  },
  {
   "cell_type": "code",
   "execution_count": null,
   "metadata": {},
   "outputs": [],
   "source": [
    "novelties_services = pd.read_sql_table('mensajeria_novedadesservicio', engineSource)\n",
    "dim_type_novelty = pd.read_sql_table('dim_type_novelty', engineDestination)\n",
    "fact_novelty = novelties_services.groupby(['servicio_id', 'tipo_novedad_id']).size().reset_index(name='total_novedad')\n",
    "\n",
    "fact_novelty.rename(columns={\n",
    "    'servicio_id': 'key_service',\n",
    "    'tipo_novedad_id': 'key_type_novelty',\n",
    "}, inplace=True)\n",
    "#fact_novelty = fact_novelty.merge(dim_type_novelty, on='type_novelty_id')\n",
    "fact_novelty[\"key_fact_novelty\"] = range(1, len(fact_novelty) + 1)\n",
    "fact_novelty[\"saved\"] = pd.to_datetime('now')\n",
    "\n",
    "fact_novelty"
   ]
  },
  {
   "cell_type": "code",
   "execution_count": null,
   "metadata": {},
   "outputs": [],
   "source": [
    "fact_novelty.to_sql(\"fact_novelty\", engineDestination, index=False, if_exists=\"replace\")"
   ]
  }
 ],
 "metadata": {
  "kernelspec": {
   "display_name": "venv",
   "language": "python",
   "name": "python3"
  },
  "language_info": {
   "codemirror_mode": {
    "name": "ipython",
    "version": 3
   },
   "file_extension": ".py",
   "mimetype": "text/x-python",
   "name": "python",
   "nbconvert_exporter": "python",
   "pygments_lexer": "ipython3",
   "version": "3.11.9"
  }
 },
 "nbformat": 4,
 "nbformat_minor": 2
}
