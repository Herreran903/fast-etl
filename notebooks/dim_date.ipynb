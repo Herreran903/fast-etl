{
 "cells": [
  {
   "cell_type": "markdown",
   "metadata": {},
   "source": [
    "# dim_date"
   ]
  },
  {
   "cell_type": "markdown",
   "metadata": {},
   "source": [
    "### Importación de librerías"
   ]
  },
  {
   "cell_type": "code",
   "execution_count": null,
   "metadata": {},
   "outputs": [],
   "source": [
    "import yaml\n",
    "import pandas as pd\n",
    "from sqlalchemy import create_engine"
   ]
  },
  {
   "cell_type": "markdown",
   "metadata": {},
   "source": [
    "### Conexión a base y bodega de datos"
   ]
  },
  {
   "cell_type": "code",
   "execution_count": null,
   "metadata": {},
   "outputs": [],
   "source": [
    "with open('../config.yaml') as f:\n",
    "    config = yaml.safe_load(f)\n",
    "    configSource = config['source']\n",
    "    configDestination = config['destination']\n",
    "\n",
    "urlSource = f\"{configSource['driver']}://{configSource['user']}:{configSource['password']}@{configSource['host']}:{configSource['port']}/{configSource['db']}\"\n",
    "urlDestination = f\"{configDestination['driver']}://{configDestination['user']}:{configDestination['password']}@{configDestination['host']}:{configDestination['port']}/{configDestination['db']}\"\n",
    "\n",
    "engineSource = create_engine(urlSource)\n",
    "engineDestination = create_engine(urlDestination)"
   ]
  },
  {
   "cell_type": "markdown",
   "metadata": {},
   "source": [
    "### Extracción y transformación de datos"
   ]
  },
  {
   "cell_type": "code",
   "execution_count": null,
   "metadata": {},
   "outputs": [],
   "source": [
    "dim_date = pd.DataFrame({\"date\": pd.date_range(start=\"2023-01-01\", end=\"2024-12-31\", freq=\"D\")})\n",
    "dim_date[\"day\"] = dim_date[\"date\"].dt.day\n",
    "dim_date[\"day_name\"] = dim_date[\"date\"].dt.day_name()\n",
    "dim_date[\"month\"] = dim_date[\"date\"].dt.month\n",
    "dim_date[\"month_name\"] = dim_date[\"date\"].dt.month_name()\n",
    "dim_date[\"year\"] = dim_date[\"date\"].dt.year\n",
    "dim_date[\"key_dim_date\"] = range(1, len(dim_date) + 1)\n",
    "\n",
    "dim_date"
   ]
  },
  {
   "cell_type": "code",
   "execution_count": null,
   "metadata": {},
   "outputs": [],
   "source": [
    "from datetime import date\n",
    "dim_date['saved'] = date.today()"
   ]
  },
  {
   "cell_type": "markdown",
   "metadata": {},
   "source": [
    "### Carga de datos"
   ]
  },
  {
   "cell_type": "code",
   "execution_count": null,
   "metadata": {},
   "outputs": [],
   "source": [
    "dim_date.to_sql(\"dim_date\", engineDestination, index=False, if_exists=\"replace\")"
   ]
  }
 ],
 "metadata": {
  "kernelspec": {
   "display_name": "Python 3",
   "language": "python",
   "name": "python3"
  },
  "language_info": {
   "codemirror_mode": {
    "name": "ipython",
    "version": 3
   },
   "file_extension": ".py",
   "mimetype": "text/x-python",
   "name": "python",
   "nbconvert_exporter": "python",
   "pygments_lexer": "ipython3",
   "version": "3.11.4"
  }
 },
 "nbformat": 4,
 "nbformat_minor": 2
}
