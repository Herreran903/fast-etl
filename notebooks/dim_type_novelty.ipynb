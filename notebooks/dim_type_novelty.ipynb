{
 "cells": [
  {
   "cell_type": "code",
   "execution_count": 10,
   "metadata": {},
   "outputs": [],
   "source": [
    "import yaml\n",
    "import pandas as pd\n",
    "from sqlalchemy import create_engine\n",
    "from sqlalchemy import text"
   ]
  },
  {
   "cell_type": "code",
   "execution_count": 2,
   "metadata": {},
   "outputs": [],
   "source": [
    "with open('../config.yaml') as f:\n",
    "    config = yaml.safe_load(f)\n",
    "    configSource = config['source']\n",
    "    configDestination = config['destination']\n",
    "\n",
    "urlSource = f\"{configSource['driver']}://{configSource['user']}:{configSource['password']}@{configSource['host']}:{configSource['port']}/{configSource['db']}\"\n",
    "urlDestination = f\"{configDestination['driver']}://{configDestination['user']}:{configDestination['password']}@{configDestination['host']}:{configDestination['port']}/{configDestination['db']}\"\n",
    "\n",
    "engineSource = create_engine(urlSource)\n",
    "engineDestination = create_engine(urlDestination)"
   ]
  },
  {
   "cell_type": "code",
   "execution_count": 11,
   "metadata": {},
   "outputs": [
    {
     "data": {
      "text/html": [
       "<div>\n",
       "<style scoped>\n",
       "    .dataframe tbody tr th:only-of-type {\n",
       "        vertical-align: middle;\n",
       "    }\n",
       "\n",
       "    .dataframe tbody tr th {\n",
       "        vertical-align: top;\n",
       "    }\n",
       "\n",
       "    .dataframe thead th {\n",
       "        text-align: right;\n",
       "    }\n",
       "</style>\n",
       "<table border=\"1\" class=\"dataframe\">\n",
       "  <thead>\n",
       "    <tr style=\"text-align: right;\">\n",
       "      <th></th>\n",
       "      <th>type_novelty_id</th>\n",
       "      <th>name</th>\n",
       "      <th>saved</th>\n",
       "    </tr>\n",
       "  </thead>\n",
       "  <tbody>\n",
       "    <tr>\n",
       "      <th>0</th>\n",
       "      <td>2</td>\n",
       "      <td>No puedo continuar</td>\n",
       "      <td>2024-10-22 20:47:21.133404</td>\n",
       "    </tr>\n",
       "    <tr>\n",
       "      <th>1</th>\n",
       "      <td>1</td>\n",
       "      <td>Novedades del servicio</td>\n",
       "      <td>2024-10-22 20:47:21.133404</td>\n",
       "    </tr>\n",
       "  </tbody>\n",
       "</table>\n",
       "</div>"
      ],
      "text/plain": [
       "   type_novelty_id                    name                      saved\n",
       "0                2      No puedo continuar 2024-10-22 20:47:21.133404\n",
       "1                1  Novedades del servicio 2024-10-22 20:47:21.133404"
      ]
     },
     "execution_count": 11,
     "metadata": {},
     "output_type": "execute_result"
    }
   ],
   "source": [
    "type_novelty = pd.read_sql_table('mensajeria_tiponovedad', engineSource)\n",
    "type_novelty.rename(columns={\n",
    "  \"id\": \"type_novelty_id\", \n",
    "  \"nombre\": \"name\"\n",
    "  }, inplace=True)\n",
    "type_novelty[\"saved\"] = pd.to_datetime('now')\n",
    "\n",
    "type_novelty"
   ]
  },
  {
   "cell_type": "code",
   "execution_count": 12,
   "metadata": {},
   "outputs": [],
   "source": [
    "type_novelty.to_sql(\"dim_type_novelty\", engineDestination, index=False, if_exists=\"replace\")\n",
    "\n",
    "alter_table_query = \"\"\"\n",
    "    ALTER TABLE dim_type_novelty\n",
    "    ADD CONSTRAINT pk_dim_type_novelty PRIMARY KEY (type_novelty_id);\n",
    "\"\"\"\n",
    "\n",
    "with engineDestination.connect() as connection:\n",
    "    connection.execute(text(alter_table_query))"
   ]
  }
 ],
 "metadata": {
  "kernelspec": {
   "display_name": "venv",
   "language": "python",
   "name": "python3"
  },
  "language_info": {
   "codemirror_mode": {
    "name": "ipython",
    "version": 3
   },
   "file_extension": ".py",
   "mimetype": "text/x-python",
   "name": "python",
   "nbconvert_exporter": "python",
   "pygments_lexer": "ipython3",
   "version": "3.11.9"
  }
 },
 "nbformat": 4,
 "nbformat_minor": 2
}
