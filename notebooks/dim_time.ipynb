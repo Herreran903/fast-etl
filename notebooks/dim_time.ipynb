{
 "cells": [
  {
   "cell_type": "code",
   "execution_count": null,
   "metadata": {},
   "outputs": [],
   "source": [
    "import yaml\n",
    "import pandas as pd\n",
    "from sqlalchemy import create_engine"
   ]
  },
  {
   "cell_type": "code",
   "execution_count": null,
   "metadata": {},
   "outputs": [],
   "source": [
    "with open('../config.yaml') as f:\n",
    "    config = yaml.safe_load(f)\n",
    "    configSource = config['source']\n",
    "    configDestination = config['destination']\n",
    "\n",
    "urlSource = f\"{configSource['driver']}://{configSource['user']}:{configSource['password']}@{configSource['host']}:{configSource['port']}/{configSource['db']}\"\n",
    "urlDestination = f\"{configDestination['driver']}://{configDestination['user']}:{configDestination['password']}@{configDestination['host']}:{configDestination['port']}/{configDestination['db']}\"\n",
    "\n",
    "engineSource = create_engine(urlSource)\n",
    "engineDestination = create_engine(urlDestination)"
   ]
  },
  {
   "cell_type": "code",
   "execution_count": null,
   "metadata": {},
   "outputs": [],
   "source": [
    "# Formato Hora:Minuto\n",
    "\n",
    "time = pd.DataFrame({\"time\": pd.date_range(\"2021-01-01\", \"2021-01-01 23:59\", freq=\"T\")})\n",
    "time[\"hour\"] = time[\"time\"].dt.hour\n",
    "time[\"minute\"] = time[\"time\"].dt.minute\n",
    "\n",
    "time[\"time\"] = time[\"time\"].dt.strftime('%H:%M')\n",
    "\n",
    "time[\"key_dim_time\"] = range(1, len(time) + 1)\n",
    "\n",
    "time[\"saved\"] = pd.to_datetime(\"now\")\n",
    "\n",
    "time"
   ]
  },
  {
   "cell_type": "code",
   "execution_count": null,
   "metadata": {},
   "outputs": [],
   "source": [
    "# Formato Hora (solo hora)\n",
    "\n",
    "# time = pd.DataFrame({\"time\": pd.date_range(\"2021-01-01\", \"2021-01-01 23:00\", freq=\"H\")})\n",
    "\n",
    "# time[\"time\"] = time[\"time\"].dt.strftime('%H')\n",
    "\n",
    "# time[\"key_dim_time\"] = range(1, len(time) + 1)\n",
    "# time[\"saved\"] = pd.to_datetime(\"now\")\n",
    "\n",
    "# time"
   ]
  },
  {
   "cell_type": "code",
   "execution_count": null,
   "metadata": {},
   "outputs": [],
   "source": [
    "time.to_sql(\"dim_time\", engineDestination, index=False, if_exists=\"replace\")"
   ]
  }
 ],
 "metadata": {
  "kernelspec": {
   "display_name": "Python 3",
   "language": "python",
   "name": "python3"
  },
  "language_info": {
   "codemirror_mode": {
    "name": "ipython",
    "version": 3
   },
   "file_extension": ".py",
   "mimetype": "text/x-python",
   "name": "python",
   "nbconvert_exporter": "python",
   "pygments_lexer": "ipython3",
   "version": "3.11.4"
  }
 },
 "nbformat": 4,
 "nbformat_minor": 2
}
