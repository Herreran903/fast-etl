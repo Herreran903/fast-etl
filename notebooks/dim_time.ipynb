{
 "cells": [
  {
   "cell_type": "code",
   "execution_count": 2,
   "metadata": {},
   "outputs": [],
   "source": [
    "import yaml\n",
    "import pandas as pd\n",
    "from sqlalchemy import create_engine"
   ]
  },
  {
   "cell_type": "code",
   "execution_count": 3,
   "metadata": {},
   "outputs": [],
   "source": [
    "with open('../config.yaml') as f:\n",
    "    config = yaml.safe_load(f)\n",
    "    configSource = config['source']\n",
    "    configDestination = config['destination']\n",
    "\n",
    "urlSource = f\"{configSource['driver']}://{configSource['user']}:{configSource['password']}@{configSource['host']}:{configSource['port']}/{configSource['db']}\"\n",
    "urlDestination = f\"{configDestination['driver']}://{configDestination['user']}:{configDestination['password']}@{configDestination['host']}:{configDestination['port']}/{configDestination['db']}\"\n",
    "\n",
    "engineSource = create_engine(urlSource)\n",
    "engineDestination = create_engine(urlDestination)"
   ]
  },
  {
   "cell_type": "code",
   "execution_count": 6,
   "metadata": {},
   "outputs": [
    {
     "name": "stderr",
     "output_type": "stream",
     "text": [
      "C:\\Users\\Trabajo\\AppData\\Local\\Temp\\ipykernel_47496\\2371963413.py:1: FutureWarning: 'S' is deprecated and will be removed in a future version, please use 's' instead.\n",
      "  time = pd.DataFrame({\"time\" : pd.date_range(\"2021-01-01\", \"2021-01-01 23:59:59\", freq=\"S\")})\n"
     ]
    },
    {
     "data": {
      "text/html": [
       "<div>\n",
       "<style scoped>\n",
       "    .dataframe tbody tr th:only-of-type {\n",
       "        vertical-align: middle;\n",
       "    }\n",
       "\n",
       "    .dataframe tbody tr th {\n",
       "        vertical-align: top;\n",
       "    }\n",
       "\n",
       "    .dataframe thead th {\n",
       "        text-align: right;\n",
       "    }\n",
       "</style>\n",
       "<table border=\"1\" class=\"dataframe\">\n",
       "  <thead>\n",
       "    <tr style=\"text-align: right;\">\n",
       "      <th></th>\n",
       "      <th>time</th>\n",
       "      <th>hour</th>\n",
       "      <th>minute</th>\n",
       "      <th>second</th>\n",
       "      <th>time_id</th>\n",
       "      <th>saved</th>\n",
       "    </tr>\n",
       "  </thead>\n",
       "  <tbody>\n",
       "    <tr>\n",
       "      <th>0</th>\n",
       "      <td>00:00:00</td>\n",
       "      <td>00:00:00</td>\n",
       "      <td>0</td>\n",
       "      <td>0</td>\n",
       "      <td>1</td>\n",
       "      <td>2024-10-21 16:19:53.808295</td>\n",
       "    </tr>\n",
       "    <tr>\n",
       "      <th>1</th>\n",
       "      <td>00:00:01</td>\n",
       "      <td>00:00:01</td>\n",
       "      <td>0</td>\n",
       "      <td>1</td>\n",
       "      <td>2</td>\n",
       "      <td>2024-10-21 16:19:53.808295</td>\n",
       "    </tr>\n",
       "    <tr>\n",
       "      <th>2</th>\n",
       "      <td>00:00:02</td>\n",
       "      <td>00:00:02</td>\n",
       "      <td>0</td>\n",
       "      <td>2</td>\n",
       "      <td>3</td>\n",
       "      <td>2024-10-21 16:19:53.808295</td>\n",
       "    </tr>\n",
       "    <tr>\n",
       "      <th>3</th>\n",
       "      <td>00:00:03</td>\n",
       "      <td>00:00:03</td>\n",
       "      <td>0</td>\n",
       "      <td>3</td>\n",
       "      <td>4</td>\n",
       "      <td>2024-10-21 16:19:53.808295</td>\n",
       "    </tr>\n",
       "    <tr>\n",
       "      <th>4</th>\n",
       "      <td>00:00:04</td>\n",
       "      <td>00:00:04</td>\n",
       "      <td>0</td>\n",
       "      <td>4</td>\n",
       "      <td>5</td>\n",
       "      <td>2024-10-21 16:19:53.808295</td>\n",
       "    </tr>\n",
       "    <tr>\n",
       "      <th>...</th>\n",
       "      <td>...</td>\n",
       "      <td>...</td>\n",
       "      <td>...</td>\n",
       "      <td>...</td>\n",
       "      <td>...</td>\n",
       "      <td>...</td>\n",
       "    </tr>\n",
       "    <tr>\n",
       "      <th>86395</th>\n",
       "      <td>23:59:55</td>\n",
       "      <td>23:59:55</td>\n",
       "      <td>59</td>\n",
       "      <td>55</td>\n",
       "      <td>86396</td>\n",
       "      <td>2024-10-21 16:19:53.808295</td>\n",
       "    </tr>\n",
       "    <tr>\n",
       "      <th>86396</th>\n",
       "      <td>23:59:56</td>\n",
       "      <td>23:59:56</td>\n",
       "      <td>59</td>\n",
       "      <td>56</td>\n",
       "      <td>86397</td>\n",
       "      <td>2024-10-21 16:19:53.808295</td>\n",
       "    </tr>\n",
       "    <tr>\n",
       "      <th>86397</th>\n",
       "      <td>23:59:57</td>\n",
       "      <td>23:59:57</td>\n",
       "      <td>59</td>\n",
       "      <td>57</td>\n",
       "      <td>86398</td>\n",
       "      <td>2024-10-21 16:19:53.808295</td>\n",
       "    </tr>\n",
       "    <tr>\n",
       "      <th>86398</th>\n",
       "      <td>23:59:58</td>\n",
       "      <td>23:59:58</td>\n",
       "      <td>59</td>\n",
       "      <td>58</td>\n",
       "      <td>86399</td>\n",
       "      <td>2024-10-21 16:19:53.808295</td>\n",
       "    </tr>\n",
       "    <tr>\n",
       "      <th>86399</th>\n",
       "      <td>23:59:59</td>\n",
       "      <td>23:59:59</td>\n",
       "      <td>59</td>\n",
       "      <td>59</td>\n",
       "      <td>86400</td>\n",
       "      <td>2024-10-21 16:19:53.808295</td>\n",
       "    </tr>\n",
       "  </tbody>\n",
       "</table>\n",
       "<p>86400 rows × 6 columns</p>\n",
       "</div>"
      ],
      "text/plain": [
       "           time      hour  minute  second  time_id                      saved\n",
       "0      00:00:00  00:00:00       0       0        1 2024-10-21 16:19:53.808295\n",
       "1      00:00:01  00:00:01       0       1        2 2024-10-21 16:19:53.808295\n",
       "2      00:00:02  00:00:02       0       2        3 2024-10-21 16:19:53.808295\n",
       "3      00:00:03  00:00:03       0       3        4 2024-10-21 16:19:53.808295\n",
       "4      00:00:04  00:00:04       0       4        5 2024-10-21 16:19:53.808295\n",
       "...         ...       ...     ...     ...      ...                        ...\n",
       "86395  23:59:55  23:59:55      59      55    86396 2024-10-21 16:19:53.808295\n",
       "86396  23:59:56  23:59:56      59      56    86397 2024-10-21 16:19:53.808295\n",
       "86397  23:59:57  23:59:57      59      57    86398 2024-10-21 16:19:53.808295\n",
       "86398  23:59:58  23:59:58      59      58    86399 2024-10-21 16:19:53.808295\n",
       "86399  23:59:59  23:59:59      59      59    86400 2024-10-21 16:19:53.808295\n",
       "\n",
       "[86400 rows x 6 columns]"
      ]
     },
     "execution_count": 6,
     "metadata": {},
     "output_type": "execute_result"
    }
   ],
   "source": [
    "time = pd.DataFrame({\"time\" : pd.date_range(\"2021-01-01\", \"2021-01-01 23:59:59\", freq=\"S\")})\n",
    "time[\"hour\"] = time[\"time\"].dt.time\n",
    "time[\"minute\"] = time[\"time\"].dt.minute\n",
    "time[\"second\"] = time[\"time\"].dt.second\n",
    "time[\"time\"] = time[\"time\"].dt.time\n",
    "time[\"time_id\"] = range(1, len(time) + 1)\n",
    "time[\"saved\"] = pd.to_datetime(\"now\")\n",
    "\n",
    "time"
   ]
  },
  {
   "cell_type": "code",
   "execution_count": 8,
   "metadata": {},
   "outputs": [
    {
     "data": {
      "text/plain": [
       "400"
      ]
     },
     "execution_count": 8,
     "metadata": {},
     "output_type": "execute_result"
    }
   ],
   "source": [
    "time.to_sql(\"dim_time\", engineDestination, index=False, if_exists=\"replace\")\n",
    "\n"
   ]
  }
 ],
 "metadata": {
  "kernelspec": {
   "display_name": "venv",
   "language": "python",
   "name": "python3"
  },
  "language_info": {
   "codemirror_mode": {
    "name": "ipython",
    "version": 3
   },
   "file_extension": ".py",
   "mimetype": "text/x-python",
   "name": "python",
   "nbconvert_exporter": "python",
   "pygments_lexer": "ipython3",
   "version": "3.11.9"
  }
 },
 "nbformat": 4,
 "nbformat_minor": 2
}
