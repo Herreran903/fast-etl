{
 "cells": [
  {
   "cell_type": "markdown",
   "metadata": {},
   "source": [
    "# dim_messenger"
   ]
  },
  {
   "cell_type": "markdown",
   "metadata": {},
   "source": [
    "### Importación de librerías"
   ]
  },
  {
   "cell_type": "code",
   "execution_count": 1,
   "metadata": {},
   "outputs": [],
   "source": [
    "import yaml\n",
    "import pandas as pd\n",
    "from sqlalchemy import create_engine"
   ]
  },
  {
   "cell_type": "markdown",
   "metadata": {},
   "source": [
    "### Conexión a base y bodega de datos"
   ]
  },
  {
   "cell_type": "code",
   "execution_count": 2,
   "metadata": {},
   "outputs": [],
   "source": [
    "with open('../config.yaml') as f:\n",
    "    config = yaml.safe_load(f)\n",
    "    configSource = config['source']\n",
    "    configDestination = config['destination']\n",
    "\n",
    "urlSource = f\"{configSource['driver']}://{configSource['user']}:{configSource['password']}@{configSource['host']}:{configSource['port']}/{configSource['db']}\"\n",
    "urlDestination = f\"{configDestination['driver']}://{configDestination['user']}:{configDestination['password']}@{configDestination['host']}:{configDestination['port']}/{configDestination['db']}\"\n",
    "\n",
    "engineSource = create_engine(urlSource)\n",
    "engineDestination = create_engine(urlDestination)"
   ]
  },
  {
   "cell_type": "markdown",
   "metadata": {},
   "source": [
    "### Extracción y transformación de datos"
   ]
  },
  {
   "cell_type": "code",
   "execution_count": null,
   "metadata": {},
   "outputs": [],
   "source": [
    "messenger = pd.read_sql_table('clientes_mensajeroaquitoy', engineSource)\n",
    "messenger_info = pd.read_sql_table('auth_user', engineSource)\n",
    "messenger.drop(columns=[\"id\", \"fecha_entrada\", \"fecha_salida\", \"salario\", \"ciudad_operacion_id\", \"token_Firebase\", \"url_foto\", \"activo\"], inplace=True)\n",
    "messenger_info.drop(columns=[\"password\", \"last_login\", \"is_superuser\", \"username\", \"last_name\", \"is_staff\", \"is_active\", \"date_joined\"], inplace=True)\n",
    "messenger = messenger.merge(messenger_info, left_on=\"user_id\", right_on=\"id\", how=\"left\")\n",
    "messenger.drop(columns=[\"id\"], inplace=True)\n",
    "messenger.rename(columns={\n",
    "  \"first_name\": \"name\",\n",
    "  \"telefono\": \"phone\",\n",
    "  \"user_id\": \"key_dim_messenger\"}, inplace=True)\n",
    "\n",
    "messenger"
   ]
  },
  {
   "cell_type": "markdown",
   "metadata": {},
   "source": [
    "### Carga de datos"
   ]
  },
  {
   "cell_type": "code",
   "execution_count": null,
   "metadata": {},
   "outputs": [],
   "source": [
    "messenger.to_sql(\"dim_messenger\", engineDestination, index=False, if_exists=\"replace\")"
   ]
  }
 ],
 "metadata": {
  "kernelspec": {
   "display_name": "venv",
   "language": "python",
   "name": "python3"
  },
  "language_info": {
   "codemirror_mode": {
    "name": "ipython",
    "version": 3
   },
   "file_extension": ".py",
   "mimetype": "text/x-python",
   "name": "python",
   "nbconvert_exporter": "python",
   "pygments_lexer": "ipython3",
   "version": "3.11.9"
  }
 },
 "nbformat": 4,
 "nbformat_minor": 2
}
