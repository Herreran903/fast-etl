{
 "cells": [
  {
   "cell_type": "markdown",
   "metadata": {},
   "source": [
    "# constraints"
   ]
  },
  {
   "cell_type": "markdown",
   "metadata": {},
   "source": [
    "Este notebook se encarga de asignar las llaves primarias y foráneas a las tablas de hechos y dimensiones"
   ]
  },
  {
   "cell_type": "markdown",
   "metadata": {},
   "source": [
    "### Importación de librerías"
   ]
  },
  {
   "cell_type": "code",
   "execution_count": null,
   "metadata": {},
   "outputs": [],
   "source": [
    "import yaml\n",
    "from sqlalchemy import create_engine, text\n",
    "from sqlalchemy.inspection import inspect"
   ]
  },
  {
   "cell_type": "markdown",
   "metadata": {},
   "source": [
    "### Definición de las llaves foráneas"
   ]
  },
  {
   "cell_type": "code",
   "execution_count": null,
   "metadata": {},
   "outputs": [],
   "source": [
    "props = {\n",
    "    \"fact_novelty\" : {\n",
    "        \"key_type_novelty\" : {\n",
    "            \"column\" : \"key_type_novelty\",\n",
    "            \"ref_table\" : \"dim_type_novelty\",\n",
    "            \"ref_column\" : \"key_dim_type_novelty\"\n",
    "        },\n",
    "    },\n",
    "    \"fact_messaging_daily\" : {\n",
    "        \"key_date\" : {\n",
    "            \"column\" : \"key_date\",\n",
    "            \"ref_table\" : \"dim_date\",\n",
    "            \"ref_column\" : \"key_dim_date\"\n",
    "        },\n",
    "        \"key_client\" : {\n",
    "            \"column\" : \"key_client\",\n",
    "            \"ref_table\" : \"dim_client\",\n",
    "            \"ref_column\" : \"key_dim_client\"\n",
    "        },\n",
    "        \"key_headquarter\" : {\n",
    "            \"column\" : \"key_headquarter\",\n",
    "            \"ref_table\" : \"dim_headquarter\",\n",
    "            \"ref_column\" : \"key_dim_headquarter\"\n",
    "        },\n",
    "    },\n",
    "    \"fact_messaging_time\" : {\n",
    "        \"key_time\" : {\n",
    "            \"column\" : \"key_time\",\n",
    "            \"ref_table\" : \"dim_time\",\n",
    "            \"ref_column\" : \"key_dim_time\"\n",
    "        },\n",
    "        \"key_messenger\" : {\n",
    "            \"column\" : \"key_messenger\",\n",
    "            \"ref_table\" : \"dim_messenger\",\n",
    "            \"ref_column\" : \"key_dim_messenger\"\n",
    "        },\n",
    "    },\n",
    "    \"fact_messaging_accumulating\" : {\n",
    "        \"key_start_date\" : {\n",
    "            \"column\" : \"key_start_date\",\n",
    "            \"ref_table\" : \"dim_date\",\n",
    "            \"ref_column\" : \"key_dim_date\"\n",
    "        },\n",
    "        \"key_assignment_date\" : {\n",
    "            \"column\" : \"key_assignment_date\",\n",
    "            \"ref_table\" : \"dim_date\",\n",
    "            \"ref_column\" : \"key_dim_date\"\n",
    "        },\n",
    "        \"key_pick_up_date\" : {\n",
    "            \"column\" : \"key_pick_up_date\",\n",
    "            \"ref_table\" : \"dim_date\",\n",
    "            \"ref_column\" : \"key_dim_date\"\n",
    "        },\n",
    "        \"key_delivery_date\" : {\n",
    "            \"column\" : \"key_delivery_date\",\n",
    "            \"ref_table\" : \"dim_date\",\n",
    "            \"ref_column\" : \"key_dim_date\"\n",
    "        },\n",
    "        \"key_closing_date\" : {\n",
    "            \"column\" : \"key_closing_date\",\n",
    "            \"ref_table\" : \"dim_date\",\n",
    "            \"ref_column\" : \"key_dim_date\"\n",
    "        },\n",
    "        \"key_start_time\" : {\n",
    "            \"column\" : \"key_start_time\",\n",
    "            \"ref_table\" : \"dim_time\",\n",
    "            \"ref_column\" : \"key_dim_time\"\n",
    "        },\n",
    "        \"key_assignment_time\" : {\n",
    "            \"column\" : \"key_assignment_time\",\n",
    "            \"ref_table\" : \"dim_time\",\n",
    "            \"ref_column\" : \"key_dim_time\"\n",
    "        },\n",
    "        \"key_pick_up_time\" : {\n",
    "            \"column\" : \"key_pick_up_time\",\n",
    "            \"ref_table\" : \"dim_time\",\n",
    "            \"ref_column\" : \"key_dim_time\"\n",
    "        },\n",
    "        \"key_delivery_time\" : {\n",
    "            \"column\" : \"key_delivery_time\",\n",
    "            \"ref_table\" : \"dim_time\",\n",
    "            \"ref_column\" : \"key_dim_time\"\n",
    "        },\n",
    "        \"key_closing_time\" : {\n",
    "            \"column\" : \"key_closing_time\",\n",
    "            \"ref_table\" : \"dim_time\",\n",
    "            \"ref_column\" : \"key_dim_time\"\n",
    "        },\n",
    "    },\n",
    "}"
   ]
  },
  {
   "cell_type": "markdown",
   "metadata": {},
   "source": [
    "### Definición de funciones"
   ]
  },
  {
   "cell_type": "markdown",
   "metadata": {},
   "source": [
    "Estas funciones se encargan de verificar y asignar las llaves primarias y foráneas"
   ]
  },
  {
   "cell_type": "code",
   "execution_count": null,
   "metadata": {},
   "outputs": [],
   "source": [
    "def define_primary_key(conn, table_name, column_name):\n",
    "    try:\n",
    "        query = text(f'ALTER TABLE {table_name} ADD PRIMARY KEY ({column_name})')\n",
    "        conn.execute(query)\n",
    "        conn.commit()\n",
    "        print(f\"Primary key added on {table_name} for column {column_name}.\")\n",
    "    except Exception as e:\n",
    "        print(f\"Error adding primary key on {table_name}: {e}\")\n",
    "\n",
    "def primary_key_exists(inspector, table_name):\n",
    "    pk_constraint = inspector.get_pk_constraint(table_name)\n",
    "    return pk_constraint is not None and len(pk_constraint.get('constrained_columns', [])) > 0\n",
    "\n",
    "def define_foreigns_key(conn, table_name, column_name, ref_table, ref_column):\n",
    "    try:\n",
    "        query = text(f'ALTER TABLE {table_name} ADD FOREIGN KEY ({column_name}) REFERENCES {ref_table}({ref_column})')\n",
    "        conn.execute(query)\n",
    "        conn.commit()\n",
    "        print(f\"Foreign key added on {table_name} for column {column_name}.\")\n",
    "    except Exception as e:\n",
    "        print(f\"Error adding foreign key on {table_name}: {e}\")\n",
    "\n",
    "def foreign_key_exists(inspector, table_name, column_name):\n",
    "    fk_constraints = inspector.get_foreign_keys(table_name)\n",
    "    for fk in fk_constraints:\n",
    "        if column_name in fk.get('constrained_columns', []):\n",
    "            return True\n",
    "    return False"
   ]
  },
  {
   "cell_type": "markdown",
   "metadata": {},
   "source": [
    "### Asignación de llaves"
   ]
  },
  {
   "cell_type": "code",
   "execution_count": null,
   "metadata": {},
   "outputs": [],
   "source": [
    "with open('../config.yaml') as f:\n",
    "    config = yaml.safe_load(f)\n",
    "    configSource = config['source']\n",
    "    configDestination = config['destination']\n",
    "\n",
    "urlDestination = f\"{configDestination['driver']}://{configDestination['user']}:{configDestination['password']}@{configDestination['host']}:{configDestination['port']}/{configDestination['db']}\"\n",
    "\n",
    "engineDestination = create_engine(urlDestination)\n",
    "\n",
    "inspector = inspect(engineDestination)\n",
    "tnames = inspector.get_table_names()\n",
    "\n",
    "with engineDestination.connect() as conn: \n",
    "    for table in tnames:\n",
    "        primary_key_column = f'key_{table}'\n",
    "        \n",
    "        columns = inspector.get_columns(table)\n",
    "        column_names = [column['name'] for column in columns]\n",
    "\n",
    "        if primary_key_exists(inspector, table):\n",
    "            print(f\"Table {table} already has a primary key. Skipping.\")\n",
    "            continue\n",
    "\n",
    "        if primary_key_column in column_names:\n",
    "            define_primary_key(conn, table, primary_key_column)\n",
    "        else:\n",
    "            print(f\"Column {primary_key_column} does not exist in table {table}.\")\n",
    "\n",
    "    conn.close()\n",
    "\n",
    "print(\"\\n\")\n",
    "\n",
    "with engineDestination.connect() as conn:\n",
    "    for fact_table, foreign_keys in props.items():\n",
    "        print(\"fact_table>\", fact_table)\n",
    "        for foreign_key, foreign_keys_info in foreign_keys.items():\n",
    "            print(\">\")\n",
    "            print(\"foreign_key>\", foreign_key)\n",
    "\n",
    "            if not foreign_key_exists(inspector, fact_table, foreign_keys_info['column']):\n",
    "                define_foreigns_key(conn, fact_table, foreign_keys_info['column'], foreign_keys_info['ref_table'], foreign_keys_info['ref_column'])\n",
    "            else:\n",
    "                print(f\"Foreign key already exists on {table} for column {foreign_keys_info['column']}. Skipping.\")\n",
    "        print(\"=================\")\n",
    "\n",
    "            \n",
    "    conn.close"
   ]
  }
 ],
 "metadata": {
  "kernelspec": {
   "display_name": "Python 3",
   "language": "python",
   "name": "python3"
  },
  "language_info": {
   "codemirror_mode": {
    "name": "ipython",
    "version": 3
   },
   "file_extension": ".py",
   "mimetype": "text/x-python",
   "name": "python",
   "nbconvert_exporter": "python",
   "pygments_lexer": "ipython3",
   "version": "3.11.4"
  }
 },
 "nbformat": 4,
 "nbformat_minor": 2
}
